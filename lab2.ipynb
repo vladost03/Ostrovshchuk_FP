{
 "cells": [
  {
   "cell_type": "code",
   "execution_count": 1,
   "metadata": {},
   "outputs": [],
   "source": [
    "from typing import TypeAlias\n",
    "\n",
    "# Створюємо синоніми для простих типів даних\n",
    "Integer: TypeAlias = int\n",
    "FloatNumber: TypeAlias = float\n",
    "Text: TypeAlias = str\n",
    "BooleanValue: TypeAlias = bool\n"
   ]
  },
  {
   "cell_type": "code",
   "execution_count": 2,
   "metadata": {},
   "outputs": [],
   "source": [
    "# Використання нових імен для типів\n",
    "def process_data(a: Integer, b: FloatNumber, c: Text, d: BooleanValue) -> None:\n",
    "    print(f\"Integer: {a}\")\n",
    "    print(f\"FloatNumber: {b}\")\n",
    "    print(f\"Text: {c}\")\n",
    "    print(f\"BooleanValue: {d}\")\n",
    "\n"
   ]
  },
  {
   "cell_type": "code",
   "execution_count": 3,
   "metadata": {},
   "outputs": [
    {
     "name": "stdout",
     "output_type": "stream",
     "text": [
      "Integer: 42\n",
      "FloatNumber: 3.14\n",
      "Text: Hello\n",
      "BooleanValue: True\n"
     ]
    }
   ],
   "source": [
    "# Приклад виклику функції з використанням нових типів\n",
    "process_data(42, 3.14, \"Hello\", True)\n"
   ]
  }
 ],
 "metadata": {
  "kernelspec": {
   "display_name": "Python 3",
   "language": "python",
   "name": "python3"
  },
  "language_info": {
   "codemirror_mode": {
    "name": "ipython",
    "version": 3
   },
   "file_extension": ".py",
   "mimetype": "text/x-python",
   "name": "python",
   "nbconvert_exporter": "python",
   "pygments_lexer": "ipython3",
   "version": "3.11.5"
  }
 },
 "nbformat": 4,
 "nbformat_minor": 2
}
