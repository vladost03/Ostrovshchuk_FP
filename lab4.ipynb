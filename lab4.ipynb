{
 "cells": [
  {
   "cell_type": "code",
   "execution_count": 4,
   "metadata": {},
   "outputs": [],
   "source": [
    "from functools import partial\n",
    "from operator import mul\n",
    "from functools import reduce"
   ]
  },
  {
   "cell_type": "code",
   "execution_count": 5,
   "metadata": {},
   "outputs": [],
   "source": [
    "\n",
    "# Основна функція для обчислення добутку п'яти чисел\n",
    "def product_of_five(a, b, c, d, e):\n",
    "    return reduce(mul, [a, b, c, d, e])\n",
    "\n",
    "# Часткове використання функції для одного аргументу\n",
    "product_with_one = partial(product_of_five, 2)\n",
    "# Часткове використання функції для двох аргументів\n",
    "product_with_two = partial(product_with_one, 3)\n",
    "# Часткове використання функції для трьох аргументів\n",
    "product_with_three = partial(product_with_two, 4)\n",
    "# Часткове використання функції для чотирьох аргументів\n",
    "product_with_four = partial(product_with_three, 5)"
   ]
  },
  {
   "cell_type": "code",
   "execution_count": 6,
   "metadata": {},
   "outputs": [
    {
     "name": "stdout",
     "output_type": "stream",
     "text": [
      "960\n"
     ]
    }
   ],
   "source": [
    "# Приклад виклику функції\n",
    "print(product_with_four(8)) "
   ]
  }
 ],
 "metadata": {
  "kernelspec": {
   "display_name": "Python 3",
   "language": "python",
   "name": "python3"
  },
  "language_info": {
   "codemirror_mode": {
    "name": "ipython",
    "version": 3
   },
   "file_extension": ".py",
   "mimetype": "text/x-python",
   "name": "python",
   "nbconvert_exporter": "python",
   "pygments_lexer": "ipython3",
   "version": "3.11.5"
  }
 },
 "nbformat": 4,
 "nbformat_minor": 2
}
