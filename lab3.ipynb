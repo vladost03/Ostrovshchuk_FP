{
 "cells": [
  {
   "cell_type": "code",
   "execution_count": 1,
   "metadata": {},
   "outputs": [],
   "source": [
    "def counter():\n",
    "    count = 0  # Локальна змінна, яка зберігає кількість викликів\n",
    "\n",
    "    def increment():\n",
    "        nonlocal count  # Дозволяє змінювати зовнішню локальну змінну\n",
    "        count += 1\n",
    "        return count\n",
    "\n",
    "    return increment\n",
    "\n"
   ]
  },
  {
   "cell_type": "code",
   "execution_count": 3,
   "metadata": {},
   "outputs": [
    {
     "name": "stdout",
     "output_type": "stream",
     "text": [
      "1\n",
      "2\n",
      "3\n",
      "4\n"
     ]
    }
   ],
   "source": [
    "# Створюємо лічильник\n",
    "my_counter = counter()\n",
    "\n",
    "# Викликаємо лічильник\n",
    "print(my_counter())  \n",
    "print(my_counter())  \n",
    "print(my_counter())\n",
    "print(my_counter()) \n"
   ]
  }
 ],
 "metadata": {
  "kernelspec": {
   "display_name": "Python 3",
   "language": "python",
   "name": "python3"
  },
  "language_info": {
   "codemirror_mode": {
    "name": "ipython",
    "version": 3
   },
   "file_extension": ".py",
   "mimetype": "text/x-python",
   "name": "python",
   "nbconvert_exporter": "python",
   "pygments_lexer": "ipython3",
   "version": "3.11.5"
  }
 },
 "nbformat": 4,
 "nbformat_minor": 2
}
