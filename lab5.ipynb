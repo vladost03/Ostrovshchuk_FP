{
 "cells": [
  {
   "cell_type": "code",
   "execution_count": 3,
   "metadata": {},
   "outputs": [],
   "source": [
    "def guess_number():\n",
    "    print(\"Задумайте число від 0 до 99.\")\n",
    "    low = 0\n",
    "    high = 99\n",
    "    \n",
    "    while low < high:\n",
    "        mid = (low + high) // 2\n",
    "        response = input(f\"Задумане число менше, ніж {mid}? (Yes(y)/No(n)): \").strip().lower()\n",
    "        \n",
    "        if response == 'y':\n",
    "            high = mid - 1  # зменшуємо верхню межу\n",
    "        elif response == 'n':\n",
    "            low = mid + 1  # збільшуємо нижню межу\n",
    "        else:\n",
    "            print(\"Введіть коректну відповідь (Yes(y)/No(n)).\")\n",
    "    \n",
    "    print(f\"Ваше число: {low}\")"
   ]
  },
  {
   "cell_type": "code",
   "execution_count": 4,
   "metadata": {},
   "outputs": [
    {
     "name": "stdout",
     "output_type": "stream",
     "text": [
      "Задумайте число від 0 до 99.\n",
      "Ваше число: 66\n"
     ]
    }
   ],
   "source": [
    "# Запуск програми\n",
    "guess_number()"
   ]
  }
 ],
 "metadata": {
  "kernelspec": {
   "display_name": "Python 3",
   "language": "python",
   "name": "python3"
  },
  "language_info": {
   "codemirror_mode": {
    "name": "ipython",
    "version": 3
   },
   "file_extension": ".py",
   "mimetype": "text/x-python",
   "name": "python",
   "nbconvert_exporter": "python",
   "pygments_lexer": "ipython3",
   "version": "3.11.5"
  }
 },
 "nbformat": 4,
 "nbformat_minor": 2
}
