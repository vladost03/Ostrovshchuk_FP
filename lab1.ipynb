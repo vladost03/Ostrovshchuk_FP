{
 "cells": [
  {
   "cell_type": "code",
   "execution_count": 1,
   "metadata": {},
   "outputs": [],
   "source": [
    "def process_ranges(arr, ranges, op):\n",
    "    # Створюємо масив префіксних сум\n",
    "    prefix = [0] * (len(arr) + 1)\n",
    "    \n",
    "    # Наповнюємо масив префіксних сум\n",
    "    for i in range(1, len(arr) + 1):\n",
    "        prefix[i] = op(prefix[i-1], arr[i-1])\n",
    "    \n",
    "    results = []\n",
    "    \n",
    "    # Обчислюємо результат для кожного діапазону\n",
    "    for start, end in ranges:\n",
    "        result = op(prefix[end], -prefix[start])\n",
    "        results.append(result)\n",
    "    \n",
    "    return results\n"
   ]
  },
  {
   "cell_type": "code",
   "execution_count": 2,
   "metadata": {},
   "outputs": [
    {
     "name": "stdout",
     "output_type": "stream",
     "text": [
      "[11]\n"
     ]
    }
   ],
   "source": [
    "\n",
    "# Приклад застосування:\n",
    "arr = [3, 6, 5, 9, 7, 2]\n",
    "ranges = [(1, 3)]  # Діапазони\n",
    "op = lambda x, y: x + y  # Операція додавання\n",
    "\n",
    "print(process_ranges(arr, ranges, op))  \n"
   ]
  }
 ],
 "metadata": {
  "kernelspec": {
   "display_name": "Python 3",
   "language": "python",
   "name": "python3"
  },
  "language_info": {
   "codemirror_mode": {
    "name": "ipython",
    "version": 3
   },
   "file_extension": ".py",
   "mimetype": "text/x-python",
   "name": "python",
   "nbconvert_exporter": "python",
   "pygments_lexer": "ipython3",
   "version": "3.11.5"
  }
 },
 "nbformat": 4,
 "nbformat_minor": 2
}
